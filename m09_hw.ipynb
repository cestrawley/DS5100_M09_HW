{
 "cells": [
  {
   "cell_type": "markdown",
   "metadata": {},
   "source": [
    "# Student Info\n",
    "\n",
    "* Name:  Catherine Strawley\n",
    "* Net UD: ces9ra \n",
    "* URL of this file in GitHub:"
   ]
  },
  {
   "cell_type": "markdown",
   "metadata": {},
   "source": [
    "# Overview\n",
    "\n",
    "Follow the following recipe we used in class to package the code you wrote for `HW08` -- `booklover.py` and `booklover_test.py`.\n",
    "\n",
    "* Create a new git repo for your package.\n",
    "* Create and edit the required files and directories for your package and move the booklover modules there.\n",
    "* Stage, commit, and push all the files you've created.\n",
    "* Install your package with pip.\n",
    "* Outside of your package dir, write a script to test your method.\n",
    "\n",
    "Put this notebook in your repo. This will allow you to execute bash commands and capture the outpunt directly in the notebook.\n",
    "\n",
    "**TOTAL: 8 POINTS**"
   ]
  },
  {
   "cell_type": "markdown",
   "metadata": {},
   "source": [
    "# Tasks"
   ]
  },
  {
   "cell_type": "markdown",
   "metadata": {},
   "source": [
    "## Task 1\n",
    "\n",
    "(5 points)\n",
    "\n",
    "Show the directory structure of your repo by running this command from the root of your repo:"
   ]
  },
  {
   "cell_type": "code",
   "execution_count": 1,
   "metadata": {},
   "outputs": [
    {
     "name": "stdout",
     "output_type": "stream",
     "text": [
      ".:\n",
      "total 24\n",
      "drwxr-sr-x 4 ces9ra users 2560 Apr  2 20:31 booklover_package\n",
      "drwxr-sr-x 2 ces9ra users 2560 Apr  2 20:26 booklover_package.egg-info\n",
      "-rw-r--r-- 1 ces9ra users 6692 Apr  2 20:32 m09_hw.ipynb\n",
      "-rw-r--r-- 1 ces9ra users  629 Apr  2 20:24 setup.py\n",
      "\n",
      "./booklover_package:\n",
      "total 28\n",
      "-rw-r--r-- 1 ces9ra users 3777 Apr  2 20:14 booklover.py\n",
      "-rw-r--r-- 1 ces9ra users 4437 Apr  2 20:14 booklover_test.py\n",
      "-rw-r--r-- 1 ces9ra users    0 Apr  2 20:14 __init__.py\n",
      "drwxr-sr-x 2 ces9ra users 1024 Apr  2 20:31 __pycache__\n",
      "\n",
      "./booklover_package/__pycache__:\n",
      "total 12\n",
      "-rw-r--r-- 1 ces9ra users 3811 Apr  2 20:31 booklover.cpython-38.pyc\n",
      "-rw-r--r-- 1 ces9ra users  181 Apr  2 20:31 __init__.cpython-38.pyc\n",
      "\n",
      "./booklover_package.egg-info:\n",
      "total 20\n",
      "-rw-r--r-- 1 ces9ra users   1 Apr  2 20:26 dependency_links.txt\n",
      "-rw-r--r-- 1 ces9ra users 546 Apr  2 20:26 PKG-INFO\n",
      "-rw-r--r-- 1 ces9ra users  21 Apr  2 20:26 requires.txt\n",
      "-rw-r--r-- 1 ces9ra users 309 Apr  2 20:26 SOURCES.txt\n",
      "-rw-r--r-- 1 ces9ra users  18 Apr  2 20:26 top_level.txt\n"
     ]
    }
   ],
   "source": [
    "!ls -lR ##I refreshed this after completing all of the tasks on this assignment"
   ]
  },
  {
   "cell_type": "markdown",
   "metadata": {},
   "source": [
    "## Task 2\n",
    "\n",
    "(1 point)\n",
    "\n",
    "Put the URL of your GitHub repo here. Just paste it into a Markdown cell."
   ]
  },
  {
   "cell_type": "markdown",
   "metadata": {},
   "source": [
    "URL within package: \n",
    "    https://github.com/cestrawley/DS5100_M09_HW/tree/master/booklover_package\n",
    "        \n",
    "URL just outside of package folder (to new repo): \n",
    "    https://github.com/cestrawley/DS5100_M09_HW"
   ]
  },
  {
   "cell_type": "markdown",
   "metadata": {},
   "source": [
    "## Task 3\n",
    "\n",
    "(1 point)\n",
    "\n",
    "Show the results of installing your package.\n",
    "\n",
    "```bash\n",
    "!pip install -e .\n",
    "```"
   ]
  },
  {
   "cell_type": "code",
   "execution_count": 2,
   "metadata": {},
   "outputs": [
    {
     "name": "stdout",
     "output_type": "stream",
     "text": [
      "Obtaining file:///sfs/qumulo/qhome/ces9ra/Documents/MSDS/DS5100/DS5100_M09_HW\n",
      "Requirement already satisfied: numpy>=1.11.1 in /sfs/applications/202212/software/standard/compiler/gcc/9.2.0/jupyter_conda/2020.11-py3.8/lib/python3.8/site-packages (from booklover-package==1.0.0) (1.19.2)\n",
      "Requirement already satisfied: pandas in /sfs/applications/202212/software/standard/compiler/gcc/9.2.0/jupyter_conda/2020.11-py3.8/lib/python3.8/site-packages (from booklover-package==1.0.0) (1.1.3)\n",
      "Requirement already satisfied: pytz>=2017.2 in /sfs/applications/202212/software/standard/compiler/gcc/9.2.0/jupyter_conda/2020.11-py3.8/lib/python3.8/site-packages (from pandas->booklover-package==1.0.0) (2020.1)\n",
      "Requirement already satisfied: python-dateutil>=2.7.3 in /sfs/applications/202212/software/standard/compiler/gcc/9.2.0/jupyter_conda/2020.11-py3.8/lib/python3.8/site-packages (from pandas->booklover-package==1.0.0) (2.8.1)\n",
      "Requirement already satisfied: six>=1.5 in /sfs/applications/202212/software/standard/compiler/gcc/9.2.0/jupyter_conda/2020.11-py3.8/lib/python3.8/site-packages (from python-dateutil>=2.7.3->pandas->booklover-package==1.0.0) (1.15.0)\n",
      "Installing collected packages: booklover-package\n",
      "  Attempting uninstall: booklover-package\n",
      "    Found existing installation: booklover-package 1.0.0\n",
      "    Uninstalling booklover-package-1.0.0:\n",
      "      Successfully uninstalled booklover-package-1.0.0\n",
      "  Running setup.py develop for booklover-package\n",
      "Successfully installed booklover-package\n"
     ]
    }
   ],
   "source": [
    "!pip install --user -e ."
   ]
  },
  {
   "cell_type": "markdown",
   "metadata": {},
   "source": [
    "## Task 4\n",
    "\n",
    "(1 point)\n",
    "\n",
    "Create a file outside your repo to test your package by running it.\n",
    "\n",
    "To do this, import the package into your file and create a BookLover object.\n",
    "\n",
    "Then add a book and then print number books read.\n",
    "\n",
    "Then run the file. \n",
    "\n",
    "Show the output of running the file below, using a command like the following:\n",
    "\n",
    "```bash\n",
    "!python ../book_lover_demo.py\n",
    "```"
   ]
  },
  {
   "cell_type": "code",
   "execution_count": 3,
   "metadata": {},
   "outputs": [
    {
     "name": "stdout",
     "output_type": "stream",
     "text": [
      "1\n"
     ]
    }
   ],
   "source": [
    "!python /home/ces9ra/Documents/MSDS/DS5100/DS5100-2023-01-ces9ra/lessons/M09/book_lover_demo.py"
   ]
  },
  {
   "cell_type": "markdown",
   "metadata": {},
   "source": [
    "Github link for where the repo where the demo file is:\n",
    "https://github.com/cestrawley/DS5100-2023-01-ces9ra/tree/main/lessons/M09"
   ]
  },
  {
   "cell_type": "markdown",
   "metadata": {},
   "source": [
    "https://github.com/cestrawley/DS5100-2023-01-ces9ra/blob/main/lessons/M09/book_lover_demo.py"
   ]
  },
  {
   "cell_type": "code",
   "execution_count": null,
   "metadata": {},
   "outputs": [],
   "source": []
  }
 ],
 "metadata": {
  "kernelspec": {
   "display_name": "Python 3",
   "language": "python",
   "name": "python3"
  },
  "language_info": {
   "codemirror_mode": {
    "name": "ipython",
    "version": 3
   },
   "file_extension": ".py",
   "mimetype": "text/x-python",
   "name": "python",
   "nbconvert_exporter": "python",
   "pygments_lexer": "ipython3",
   "version": "3.8.8"
  }
 },
 "nbformat": 4,
 "nbformat_minor": 4
}
